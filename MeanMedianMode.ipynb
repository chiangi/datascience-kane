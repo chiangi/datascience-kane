{
 "cells": [
  {
   "cell_type": "markdown",
   "metadata": {},
   "source": [
    "# Mean, Median, Mode, and introducing NumPy"
   ]
  },
  {
   "cell_type": "markdown",
   "metadata": {},
   "source": [
    "## Mean vs. Median"
   ]
  },
  {
   "cell_type": "markdown",
   "metadata": {},
   "source": [
    "Let's create some fake income data, centered around 27,000 with a normal distribution and standard deviation of 15,000, with 10,000 data points. (We'll discuss those terms more later, if you're not familiar with them.)\n",
    "\n",
    "Then, compute the mean (average) - it should be close to 27,000:"
   ]
  },
  {
   "cell_type": "code",
   "execution_count": 5,
   "metadata": {
    "collapsed": false
   },
   "outputs": [
    {
     "data": {
      "text/plain": [
       "27217.995111932021"
      ]
     },
     "execution_count": 5,
     "metadata": {},
     "output_type": "execute_result"
    }
   ],
   "source": [
    "import numpy as np\n",
    "\n",
    "incomes = np.random.normal(27000, 15000, 10000) # center, std dev, n\n",
    "np.mean(incomes)"
   ]
  },
  {
   "cell_type": "markdown",
   "metadata": {},
   "source": [
    "We can segment the income data into 50 buckets, and plot it as a histogram:"
   ]
  },
  {
   "cell_type": "code",
   "execution_count": 6,
   "metadata": {
    "collapsed": false
   },
   "outputs": [
    {
     "data": {
      "image/png": "[encoded data removed]",
      "text/plain": [
       "<matplotlib.figure.Figure at 0x113c47fd0>"
      ]
     },
     "metadata": {},
     "output_type": "display_data"
    }
   ],
   "source": [
    "%matplotlib inline\n",
    "import matplotlib.pyplot as plt\n",
    "plt.hist(incomes, 50) # 50 as in 50 different buckets\n",
    "plt.show()"
   ]
  },
  {
   "cell_type": "markdown",
   "metadata": {},
   "source": [
    "Now compute the median - since we have a nice, even distribution it too should be close to 27,000:"
   ]
  },
  {
   "cell_type": "code",
   "execution_count": 7,
   "metadata": {
    "collapsed": false
   },
   "outputs": [
    {
     "data": {
      "text/plain": [
       "27252.361439134409"
      ]
     },
     "execution_count": 7,
     "metadata": {},
     "output_type": "execute_result"
    }
   ],
   "source": [
    "np.median(incomes)"
   ]
  },
  {
   "cell_type": "markdown",
   "metadata": {},
   "source": [
    "Now we'll add Donald Trump into the mix. Darn income inequality!"
   ]
  },
  {
   "cell_type": "code",
   "execution_count": 8,
   "metadata": {
    "collapsed": false
   },
   "outputs": [],
   "source": [
    "incomes = np.append(incomes, [1000000000])"
   ]
  },
  {
   "cell_type": "markdown",
   "metadata": {},
   "source": [
    "The median won't change much, but the mean does:"
   ]
  },
  {
   "cell_type": "code",
   "execution_count": 9,
   "metadata": {
    "collapsed": false
   },
   "outputs": [
    {
     "data": {
      "text/plain": [
       "27257.55913083674"
      ]
     },
     "execution_count": 9,
     "metadata": {},
     "output_type": "execute_result"
    }
   ],
   "source": [
    "np.median(incomes)"
   ]
  },
  {
   "cell_type": "code",
   "execution_count": 10,
   "metadata": {
    "collapsed": false
   },
   "outputs": [
    {
     "data": {
      "text/plain": [
       "127205.27458447356"
      ]
     },
     "execution_count": 10,
     "metadata": {},
     "output_type": "execute_result"
    }
   ],
   "source": [
    "np.mean(incomes)"
   ]
  },
  {
   "cell_type": "markdown",
   "metadata": {},
   "source": [
    "## Mode"
   ]
  },
  {
   "cell_type": "markdown",
   "metadata": {},
   "source": [
    "Next, let's generate some fake age data for 500 people:"
   ]
  },
  {
   "cell_type": "code",
   "execution_count": 11,
   "metadata": {
    "collapsed": false
   },
   "outputs": [
    {
     "data": {
      "text/plain": [
       "array([18, 85, 29, 46, 46, 24, 49, 19, 44, 56, 71, 81, 84, 80, 63, 83, 68,\n",
       "       55, 66, 24, 56, 23, 23, 27, 27, 85, 20, 61, 84, 63, 43, 64, 51, 71,\n",
       "       59, 87, 34, 84, 46, 75, 49, 53, 45, 22, 38, 89, 31, 43, 79, 47, 63,\n",
       "       72, 39, 65, 62, 31, 67, 80, 79, 87, 62, 59, 50, 86, 61, 40, 21, 35,\n",
       "       75, 22, 71, 18, 63, 87, 82, 43, 27, 84, 23, 77, 80, 45, 82, 23, 53,\n",
       "       65, 35, 38, 25, 39, 61, 63, 26, 19, 52, 28, 39, 19, 32, 56, 30, 84,\n",
       "       32, 19, 78, 24, 61, 39, 21, 66, 43, 56, 40, 33, 77, 30, 21, 20, 61,\n",
       "       46, 34, 54, 68, 54, 88, 71, 88, 49, 64, 56, 51, 36, 33, 25, 46, 56,\n",
       "       69, 31, 74, 77, 77, 82, 81, 38, 28, 83, 87, 63, 50, 31, 88, 18, 25,\n",
       "       46, 19, 44, 38, 32, 20, 54, 85, 74, 83, 53, 33, 86, 25, 58, 64, 22,\n",
       "       77, 26, 61, 34, 44, 78, 34, 25, 39, 75, 71, 64, 32, 73, 52, 38, 55,\n",
       "       47, 81, 89, 48, 21, 30, 35, 67, 42, 35, 47, 59, 54, 52, 83, 75, 52,\n",
       "       80, 43, 22, 37, 45, 31, 45, 61, 60, 41, 56, 36, 75, 28, 89, 72, 48,\n",
       "       71, 81, 55, 27, 79, 55, 62, 87, 71, 26, 53, 83, 31, 65, 38, 47, 53,\n",
       "       46, 56, 73, 89, 62, 49, 19, 66, 52, 34, 59, 34, 53, 26, 83, 51, 81,\n",
       "       26, 40, 57, 26, 88, 42, 80, 26, 58, 47, 89, 36, 36, 33, 21, 80, 88,\n",
       "       25, 49, 39, 88, 30, 25, 31, 74, 33, 58, 36, 44, 31, 59, 88, 21, 54,\n",
       "       62, 29, 31, 20, 34, 46, 53, 33, 87, 66, 83, 72, 71, 30, 85, 89, 79,\n",
       "       22, 65, 41, 80, 74, 82, 46, 24, 45, 43, 25, 62, 28, 77, 31, 32, 68,\n",
       "       63, 45, 52, 89, 41, 74, 69, 26, 57, 20, 34, 78, 18, 25, 29, 48, 58,\n",
       "       38, 72, 70, 88, 22, 73, 47, 53, 58, 82, 28, 84, 45, 28, 56, 48, 34,\n",
       "       19, 32, 20, 82, 60, 24, 38, 18, 57, 23, 43, 81, 60, 69, 35, 30, 20,\n",
       "       34, 32, 46, 89, 81, 74, 54, 40, 59, 78, 58, 48, 49, 47, 34, 52, 24,\n",
       "       58, 38, 30, 78, 77, 68, 49, 71, 83, 49, 32, 60, 68, 31, 50, 45, 39,\n",
       "       59, 57, 37, 71, 43, 34, 66, 78, 40, 75, 82, 84, 28, 19, 22, 44, 33,\n",
       "       69, 71, 66, 78, 26, 26, 72, 36, 27, 23, 88, 89, 57, 70, 20, 63, 51,\n",
       "       36, 47, 32, 27, 86, 46, 22, 48, 80, 47, 19, 33, 40, 32, 35, 85, 36,\n",
       "       56, 51, 19, 21, 58, 46, 80, 65, 43, 89, 82, 59, 36, 21, 35, 68, 30,\n",
       "       25, 37, 67, 70, 62, 41, 34, 38, 64, 29, 64, 68, 85, 37, 30, 76, 60,\n",
       "       84, 19, 56, 64, 75, 58, 38])"
      ]
     },
     "execution_count": 11,
     "metadata": {},
     "output_type": "execute_result"
    }
   ],
   "source": [
    "ages = np.random.randint(18, high=90, size=500)\n",
    "ages"
   ]
  },
  {
   "cell_type": "code",
   "execution_count": 13,
   "metadata": {
    "collapsed": false
   },
   "outputs": [
    {
     "data": {
      "text/plain": [
       "ModeResult(mode=array([34]), count=array([13]))"
      ]
     },
     "execution_count": 13,
     "metadata": {},
     "output_type": "execute_result"
    }
   ],
   "source": [
    "from scipy import stats\n",
    "stats.mode(ages)"
   ]
  },
  {
   "cell_type": "code",
   "execution_count": null,
   "metadata": {
    "collapsed": false
   },
   "outputs": [],
   "source": []
  }
 ],
 "metadata": {
  "kernelspec": {
   "display_name": "Python 2",
   "language": "python",
   "name": "python2"
  },
  "language_info": {
   "codemirror_mode": {
    "name": "ipython",
    "version": 2
   },
   "file_extension": ".py",
   "mimetype": "text/x-python",
   "name": "python",
   "nbconvert_exporter": "python",
   "pygments_lexer": "ipython2",
   "version": "2.7.11"
  }
 },
 "nbformat": 4,
 "nbformat_minor": 0
}
